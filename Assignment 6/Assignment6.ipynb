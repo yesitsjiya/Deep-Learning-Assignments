{
  "cells": [
    {
      "cell_type": "code",
      "execution_count": null,
      "metadata": {
        "id": "jjPaxzvE7YyN"
      },
      "outputs": [],
      "source": [
        "import pandas as pd    # to load dataset\n",
        "import numpy as np     # for mathematic equation\n",
        "from nltk.corpus import stopwords   # to get collection of stopwords\n",
        "from sklearn.model_selection import train_test_split       # for splitting dataset\n",
        "from tensorflow.keras.preprocessing.text import Tokenizer  # to encode text to int\n",
        "from tensorflow.keras.preprocessing.sequence import pad_sequences   # to do padding or truncating\n",
        "from tensorflow.keras.models import Sequential     # the model\n",
        "from tensorflow.keras.layers import Embedding, LSTM, Dense # layers of the architecture\n",
        "from tensorflow.keras.callbacks import ModelCheckpoint   # save model\n",
        "from tensorflow.keras.models import load_model   # load saved model"
      ]
    },
    {
      "cell_type": "code",
      "execution_count": null,
      "metadata": {
        "id": "j7w08NyR7YyQ",
        "outputId": "42b65e60-743f-4dae-a7ab-e7c7b643a025"
      },
      "outputs": [
        {
          "name": "stdout",
          "output_type": "stream",
          "text": [
            "                                                  review sentiment\n",
            "0      One of the other reviewers has mentioned that ...  positive\n",
            "1      A wonderful little production. <br /><br />The...  positive\n",
            "2      I thought this was a wonderful way to spend ti...  positive\n",
            "3      Basically there's a family where a little boy ...  negative\n",
            "4      Petter Mattei's \"Love in the Time of Money\" is...  positive\n",
            "...                                                  ...       ...\n",
            "49995  I thought this movie did a down right good job...  positive\n",
            "49996  Bad plot, bad dialogue, bad acting, idiotic di...  negative\n",
            "49997  I am a Catholic taught in parochial elementary...  negative\n",
            "49998  I'm going to have to disagree with the previou...  negative\n",
            "49999  No one expects the Star Trek movies to be high...  negative\n",
            "\n",
            "[50000 rows x 2 columns]\n"
          ]
        }
      ],
      "source": [
        "data = pd.read_csv('IMDB Dataset.csv')\n",
        "\n",
        "print(data)"
      ]
    },
    {
      "cell_type": "code",
      "execution_count": null,
      "metadata": {
        "id": "xICDsFvW7YyS"
      },
      "outputs": [],
      "source": [
        "english_stops = set(stopwords.words('english'))"
      ]
    },
    {
      "cell_type": "code",
      "execution_count": null,
      "metadata": {
        "id": "GpGKCrF47YyU",
        "outputId": "35884ea4-162d-451b-eaad-b50fb8d4bb3b"
      },
      "outputs": [
        {
          "name": "stdout",
          "output_type": "stream",
          "text": [
            "Reviews\n",
            "0        [one, reviewers, mentioned, watching, oz, epis...\n",
            "1        [a, wonderful, little, production, the, filmin...\n",
            "2        [i, thought, wonderful, way, spend, time, hot,...\n",
            "3        [basically, family, little, boy, jake, thinks,...\n",
            "4        [petter, mattei, love, time, money, visually, ...\n",
            "                               ...                        \n",
            "49995    [i, thought, movie, right, good, job, it, crea...\n",
            "49996    [bad, plot, bad, dialogue, bad, acting, idioti...\n",
            "49997    [i, catholic, taught, parochial, elementary, s...\n",
            "49998    [i, going, disagree, previous, comment, side, ...\n",
            "49999    [no, one, expects, star, trek, movies, high, a...\n",
            "Name: review, Length: 50000, dtype: object \n",
            "\n",
            "Sentiment\n",
            "0        1\n",
            "1        1\n",
            "2        1\n",
            "3        0\n",
            "4        1\n",
            "        ..\n",
            "49995    1\n",
            "49996    0\n",
            "49997    0\n",
            "49998    0\n",
            "49999    0\n",
            "Name: sentiment, Length: 50000, dtype: int64\n"
          ]
        }
      ],
      "source": [
        "def load_dataset():\n",
        "    df = pd.read_csv('IMDB Dataset.csv')\n",
        "    x_data = df['review']       # Reviews/Input\n",
        "    y_data = df['sentiment']    # Sentiment/Output\n",
        "\n",
        "    # PRE-PROCESS REVIEW\n",
        "    x_data = x_data.replace({'<.*?>': ''}, regex = True)          # remove html tag\n",
        "    x_data = x_data.replace({'[^A-Za-z]': ' '}, regex = True)     # remove non alphabet\n",
        "    x_data = x_data.apply(lambda review: [w for w in review.split() if w not in english_stops])  # remove stop words\n",
        "    x_data = x_data.apply(lambda review: [w.lower() for w in review])   # lower case\n",
        "\n",
        "    # ENCODE SENTIMENT -> 0 & 1\n",
        "    y_data = y_data.replace('positive', 1)\n",
        "    y_data = y_data.replace('negative', 0)\n",
        "\n",
        "    return x_data, y_data\n",
        "\n",
        "x_data, y_data = load_dataset()\n",
        "\n",
        "print('Reviews')\n",
        "print(x_data, '\\n')\n",
        "print('Sentiment')\n",
        "print(y_data)"
      ]
    },
    {
      "cell_type": "code",
      "execution_count": null,
      "metadata": {
        "id": "6p9Q6zy57YyV",
        "outputId": "da414ea3-84fd-4353-9eef-6f94468df28b"
      },
      "outputs": [
        {
          "name": "stdout",
          "output_type": "stream",
          "text": [
            "Train Set\n",
            "38079    [i, found, tremendously, disappointing, versio...\n",
            "2530     [i, actually, start, watching, show, came, fx,...\n",
            "3470     [this, worst, movie, i, ever, seen, believe, i...\n",
            "44760    [first, let, say, i, way, denying, importance,...\n",
            "8331     [fay, sister, notorious, nobel, prize, winning...\n",
            "                               ...                        \n",
            "37373    [this, movie, family, jimmy, morris, lived, dr...\n",
            "29271    [the, fact, movie, made, way, rentalrack, norw...\n",
            "9956     [camp, blood, looked, great, i, buying, i, wat...\n",
            "28716    [i, hate, this, movie, i, never, seen, utter, ...\n",
            "33574    [a, crackling, magnificent, thriller, child, p...\n",
            "Name: review, Length: 40000, dtype: object \n",
            "\n",
            "7679     [long, terri, schiavo, brought, issue, living,...\n",
            "44919    [this, movie, poorly, acted, what, jeff, bridg...\n",
            "42008    [with, hype, surrounding, stars, movie, movie,...\n",
            "22240    [johnny, dangerously, falls, completely, hit, ...\n",
            "43307    [this, movie, based, bible, it, completely, le...\n",
            "                               ...                        \n",
            "23715    [it, certainly, direct, video, story, bad, rev...\n",
            "6392     [the, acting, horrible, got, sports, wrongggg,...\n",
            "28225    [i, seen, lot, episodes, family, guy, pretty, ...\n",
            "4601     [i, caught, show, times, i, young, playing, ti...\n",
            "41474    [where, movie, faithful, burroughs, vision, ex...\n",
            "Name: review, Length: 10000, dtype: object \n",
            "\n",
            "Test Set\n",
            "38079    0\n",
            "2530     1\n",
            "3470     0\n",
            "44760    0\n",
            "8331     1\n",
            "        ..\n",
            "37373    1\n",
            "29271    0\n",
            "9956     0\n",
            "28716    0\n",
            "33574    1\n",
            "Name: sentiment, Length: 40000, dtype: int64 \n",
            "\n",
            "7679     1\n",
            "44919    0\n",
            "42008    0\n",
            "22240    1\n",
            "43307    0\n",
            "        ..\n",
            "23715    0\n",
            "6392     0\n",
            "28225    0\n",
            "4601     1\n",
            "41474    1\n",
            "Name: sentiment, Length: 10000, dtype: int64\n"
          ]
        }
      ],
      "source": [
        "x_train, x_test, y_train, y_test = train_test_split(x_data, y_data, test_size = 0.2)\n",
        "\n",
        "print('Train Set')\n",
        "print(x_train, '\\n')\n",
        "print(x_test, '\\n')\n",
        "print('Test Set')\n",
        "print(y_train, '\\n')\n",
        "print(y_test)"
      ]
    },
    {
      "cell_type": "code",
      "execution_count": null,
      "metadata": {
        "id": "zmX0apie7YyW"
      },
      "outputs": [],
      "source": [
        "def get_max_length():\n",
        "    review_length = []\n",
        "    for review in x_train:\n",
        "        review_length.append(len(review))\n",
        "\n",
        "    return int(np.ceil(np.mean(review_length)))"
      ]
    },
    {
      "cell_type": "code",
      "execution_count": null,
      "metadata": {
        "id": "IHeMk1y-7YyW",
        "outputId": "d82c5fa6-5124-47a6-edd7-8d677fd4198c"
      },
      "outputs": [
        {
          "name": "stdout",
          "output_type": "stream",
          "text": [
            "Encoded X Train\n",
            " [[    1   160  5903 ...     0     0     0]\n",
            " [    1    75   274 ...     0     0     0]\n",
            " [    8   158     3 ...     0     0     0]\n",
            " ...\n",
            " [ 1204   445   478 ...     0     0     0]\n",
            " [    1   635     8 ...   465 54860   842]\n",
            " [   39 19102  1829 ...     0     0     0]] \n",
            "\n",
            "Encoded X Test\n",
            " [[  102 14593 83071 ...     0     0     0]\n",
            " [    8     3   780 ...     0     0     0]\n",
            " [  421  3299  3255 ...     0     0     0]\n",
            " ...\n",
            " [    1    38    81 ...     0     0     0]\n",
            " [    1   947    46 ...     0     0     0]\n",
            " [ 1062     3  2808 ...     0     0     0]] \n",
            "\n",
            "Maximum review length:  130\n"
          ]
        }
      ],
      "source": [
        "# ENCODE REVIEW\n",
        "token = Tokenizer(lower=False)    # no need lower, because already lowered the data in load_data()\n",
        "token.fit_on_texts(x_train)\n",
        "x_train = token.texts_to_sequences(x_train)\n",
        "x_test = token.texts_to_sequences(x_test)\n",
        "\n",
        "max_length = get_max_length()\n",
        "\n",
        "x_train = pad_sequences(x_train, maxlen=max_length, padding='post', truncating='post')\n",
        "x_test = pad_sequences(x_test, maxlen=max_length, padding='post', truncating='post')\n",
        "\n",
        "total_words = len(token.word_index) + 1   # add 1 because of 0 padding\n",
        "\n",
        "print('Encoded X Train\\n', x_train, '\\n')\n",
        "print('Encoded X Test\\n', x_test, '\\n')\n",
        "print('Maximum review length: ', max_length)"
      ]
    },
    {
      "cell_type": "code",
      "execution_count": null,
      "metadata": {
        "id": "39d9iw587YyX",
        "outputId": "fdf13bdc-ca15-42dd-88ea-45b34aefc86e"
      },
      "outputs": [
        {
          "name": "stdout",
          "output_type": "stream",
          "text": [
            "Model: \"sequential\"\n",
            "_________________________________________________________________\n",
            "Layer (type)                 Output Shape              Param #   \n",
            "=================================================================\n",
            "embedding (Embedding)        (None, 130, 32)           2952960   \n",
            "_________________________________________________________________\n",
            "lstm (LSTM)                  (None, 64)                24832     \n",
            "_________________________________________________________________\n",
            "dense (Dense)                (None, 1)                 65        \n",
            "=================================================================\n",
            "Total params: 2,977,857\n",
            "Trainable params: 2,977,857\n",
            "Non-trainable params: 0\n",
            "_________________________________________________________________\n",
            "None\n"
          ]
        }
      ],
      "source": [
        "# ARCHITECTURE\n",
        "EMBED_DIM = 32\n",
        "LSTM_OUT = 64\n",
        "\n",
        "model = Sequential()\n",
        "model.add(Embedding(total_words, EMBED_DIM, input_length = max_length))\n",
        "model.add(LSTM(LSTM_OUT))\n",
        "model.add(Dense(1, activation='sigmoid'))\n",
        "model.compile(optimizer = 'adam', loss = 'binary_crossentropy', metrics = ['accuracy'])\n",
        "\n",
        "print(model.summary())"
      ]
    },
    {
      "cell_type": "code",
      "execution_count": null,
      "metadata": {
        "id": "wtA4iq9u7YyY"
      },
      "outputs": [],
      "source": [
        "checkpoint = ModelCheckpoint(\n",
        "    'models/LSTM.h5',\n",
        "    monitor='accuracy',\n",
        "    save_best_only=True,\n",
        "    verbose=1\n",
        ")"
      ]
    },
    {
      "cell_type": "code",
      "execution_count": null,
      "metadata": {
        "id": "Z6RwgufF7YyY",
        "outputId": "f2135481-a44d-4056-929d-e56e1e16985c"
      },
      "outputs": [
        {
          "name": "stdout",
          "output_type": "stream",
          "text": [
            "Train on 40000 samples\n",
            "Epoch 1/5\n",
            "39808/40000 [============================>.] - ETA: 0s - loss: 0.5096 - accuracy: 0.7128\n",
            "Epoch 00001: accuracy improved from -inf to 0.71360, saving model to models/LSTM.h5\n",
            "40000/40000 [==============================] - 13s 327us/sample - loss: 0.5087 - accuracy: 0.7136\n",
            "Epoch 2/5\n",
            "39808/40000 [============================>.] - ETA: 0s - loss: 0.2301 - accuracy: 0.9157\n",
            "Epoch 00002: accuracy improved from 0.71360 to 0.91570, saving model to models/LSTM.h5\n",
            "40000/40000 [==============================] - 10s 257us/sample - loss: 0.2302 - accuracy: 0.9157\n",
            "Epoch 3/5\n",
            "39808/40000 [============================>.] - ETA: 0s - loss: 0.1344 - accuracy: 0.9584\n",
            "Epoch 00003: accuracy improved from 0.91570 to 0.95837, saving model to models/LSTM.h5\n",
            "40000/40000 [==============================] - 11s 280us/sample - loss: 0.1345 - accuracy: 0.9584\n",
            "Epoch 4/5\n",
            "39808/40000 [============================>.] - ETA: 0s - loss: 0.0848 - accuracy: 0.9762\n",
            "Epoch 00004: accuracy improved from 0.95837 to 0.97620, saving model to models/LSTM.h5\n",
            "40000/40000 [==============================] - 10s 254us/sample - loss: 0.0848 - accuracy: 0.9762\n",
            "Epoch 5/5\n",
            "39808/40000 [============================>.] - ETA: 0s - loss: 0.0595 - accuracy: 0.9848\n",
            "Epoch 00005: accuracy improved from 0.97620 to 0.98488, saving model to models/LSTM.h5\n",
            "40000/40000 [==============================] - 10s 259us/sample - loss: 0.0593 - accuracy: 0.9849\n"
          ]
        },
        {
          "data": {
            "text/plain": [
              "<tensorflow.python.keras.callbacks.History at 0x1b130e98b08>"
            ]
          },
          "execution_count": 10,
          "metadata": {},
          "output_type": "execute_result"
        }
      ],
      "source": [
        "model.fit(x_train, y_train, batch_size = 128, epochs = 5, callbacks=[checkpoint])"
      ]
    },
    {
      "cell_type": "code",
      "execution_count": null,
      "metadata": {
        "id": "ik8g11ZO7YyZ",
        "outputId": "68e6b27c-750b-4063-fe73-7e4b18f519d5"
      },
      "outputs": [
        {
          "name": "stdout",
          "output_type": "stream",
          "text": [
            "Correct Prediction: 8609\n",
            "Wrong Prediction: 1391\n",
            "Accuracy: 86.09\n"
          ]
        }
      ],
      "source": [
        "y_pred = model.predict_classes(x_test, batch_size = 128)\n",
        "\n",
        "true = 0\n",
        "for i, y in enumerate(y_test):\n",
        "    if y == y_pred[i]:\n",
        "        true += 1\n",
        "\n",
        "print('Correct Prediction: {}'.format(true))\n",
        "print('Wrong Prediction: {}'.format(len(y_pred) - true))\n",
        "print('Accuracy: {}'.format(true/len(y_pred)*100))"
      ]
    },
    {
      "cell_type": "code",
      "execution_count": null,
      "metadata": {
        "id": "VlSf6-h67Yya"
      },
      "outputs": [],
      "source": [
        "loaded_model = load_model('models/LSTM.h5')"
      ]
    },
    {
      "cell_type": "code",
      "execution_count": null,
      "metadata": {
        "id": "m5cS4_Ty7Yyb",
        "outputId": "7d745dc1-160b-4faf-e3ba-fae8a95d153a"
      },
      "outputs": [
        {
          "name": "stdout",
          "output_type": "stream",
          "text": [
            "Movie Review: Nothing was typical about this. Everything was beautifully done in this movie, the story, the flow, the scenario, everything. I highly recommend it for mystery lovers, for anyone who wants to watch a good movie!\n"
          ]
        }
      ],
      "source": [
        "review = str(input('Movie Review: '))"
      ]
    },
    {
      "cell_type": "code",
      "execution_count": null,
      "metadata": {
        "id": "UhzbyPen7Yyb",
        "outputId": "44198017-a063-4724-ad3e-c7a666b5ce42"
      },
      "outputs": [
        {
          "name": "stdout",
          "output_type": "stream",
          "text": [
            "Cleaned:  Nothing was typical about this Everything was beautifully done in this movie the story the flow the scenario everything I highly recommend it for mystery lovers for anyone who wants to watch a good movie\n",
            "Filtered:  ['nothing typical everything beautifully done movie story flow scenario everything i highly recommend mystery lovers anyone wants watch good movie']\n"
          ]
        }
      ],
      "source": [
        "# Pre-process input\n",
        "regex = re.compile(r'[^a-zA-Z\\s]')\n",
        "review = regex.sub('', review)\n",
        "print('Cleaned: ', review)\n",
        "\n",
        "words = review.split(' ')\n",
        "filtered = [w for w in words if w not in english_stops]\n",
        "filtered = ' '.join(filtered)\n",
        "filtered = [filtered.lower()]\n",
        "\n",
        "print('Filtered: ', filtered)"
      ]
    },
    {
      "cell_type": "code",
      "execution_count": null,
      "metadata": {
        "id": "qWEzMScf7Yyc",
        "outputId": "203d95b9-0c80-4113-e9f5-2d6d1ca08b15"
      },
      "outputs": [
        {
          "name": "stdout",
          "output_type": "stream",
          "text": [
            "[[  76  708  173 1155  127    3   13 2751 2656  173    1  449  281  701\n",
            "  1710  153  401   33    9    3    0    0    0    0    0    0    0    0\n",
            "     0    0    0    0    0    0    0    0    0    0    0    0    0    0\n",
            "     0    0    0    0    0    0    0    0    0    0    0    0    0    0\n",
            "     0    0    0    0    0    0    0    0    0    0    0    0    0    0\n",
            "     0    0    0    0    0    0    0    0    0    0    0    0    0    0\n",
            "     0    0    0    0    0    0    0    0    0    0    0    0    0    0\n",
            "     0    0    0    0    0    0    0    0    0    0    0    0    0    0\n",
            "     0    0    0    0    0    0    0    0    0    0    0    0    0    0\n",
            "     0    0    0    0]]\n"
          ]
        }
      ],
      "source": [
        "tokenize_words = token.texts_to_sequences(filtered)\n",
        "tokenize_words = pad_sequences(tokenize_words, maxlen=max_length, padding='post', truncating='post')\n",
        "print(tokenize_words)"
      ]
    },
    {
      "cell_type": "code",
      "execution_count": null,
      "metadata": {
        "id": "7bNzI0WZ7Yyd",
        "outputId": "f78da82e-ef07-441a-971f-cbf7f454599d"
      },
      "outputs": [
        {
          "name": "stdout",
          "output_type": "stream",
          "text": [
            "[[0.9971666]]\n"
          ]
        }
      ],
      "source": [
        "result = loaded_model.predict(tokenize_words)\n",
        "print(result)"
      ]
    },
    {
      "cell_type": "code",
      "execution_count": null,
      "metadata": {
        "id": "Jy_P0eyB7Yye",
        "outputId": "1b0c929d-e333-4e5b-d947-5029d1ef22af"
      },
      "outputs": [
        {
          "name": "stdout",
          "output_type": "stream",
          "text": [
            "positive\n"
          ]
        }
      ],
      "source": [
        "if result >= 0.7:\n",
        "    print('positive')\n",
        "else:\n",
        "    print('negative')"
      ]
    }
  ],
  "metadata": {
    "colab": {
      "provenance": []
    },
    "kernelspec": {
      "display_name": "Python 3",
      "name": "python3"
    },
    "language_info": {
      "name": "python"
    }
  },
  "nbformat": 4,
  "nbformat_minor": 0
}
